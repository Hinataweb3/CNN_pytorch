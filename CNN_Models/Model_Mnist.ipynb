{
 "cells": [
  {
   "cell_type": "code",
   "execution_count": 1,
   "id": "d844a476",
   "metadata": {},
   "outputs": [],
   "source": [
    "import torch\n",
    "import torch.nn as nn\n",
    "import torch.nn.functional as F\n",
    "from torch.utils.data import DataLoader\n",
    "from torchvision import datasets, transforms\n",
    "from torchvision.utils import make_grid\n",
    "\n",
    "import numpy as np\n",
    "import pandas as pd\n",
    "from sklearn.metrics import confusion_matrix\n",
    "import matplotlib.pyplot as plt\n",
    "%matplotlib inline"
   ]
  },
  {
   "cell_type": "code",
   "execution_count": 2,
   "id": "9ff5f7f6",
   "metadata": {},
   "outputs": [
    {
     "name": "stderr",
     "output_type": "stream",
     "text": [
      "8.0%"
     ]
    },
    {
     "name": "stdout",
     "output_type": "stream",
     "text": [
      "Downloading http://yann.lecun.com/exdb/mnist/train-images-idx3-ubyte.gz to ../Data\\MNIST\\raw\\train-images-idx3-ubyte.gz\n"
     ]
    },
    {
     "name": "stderr",
     "output_type": "stream",
     "text": [
      "100.1%"
     ]
    },
    {
     "name": "stdout",
     "output_type": "stream",
     "text": [
      "Extracting ../Data\\MNIST\\raw\\train-images-idx3-ubyte.gz\n"
     ]
    },
    {
     "name": "stderr",
     "output_type": "stream",
     "text": [
      "39.7%%"
     ]
    },
    {
     "name": "stdout",
     "output_type": "stream",
     "text": [
      "Downloading http://yann.lecun.com/exdb/mnist/train-labels-idx1-ubyte.gz to ../Data\\MNIST\\raw\\train-labels-idx1-ubyte.gz\n",
      "Extracting ../Data\\MNIST\\raw\\train-labels-idx1-ubyte.gz\n",
      "Downloading http://yann.lecun.com/exdb/mnist/t10k-images-idx3-ubyte.gz to ../Data\\MNIST\\raw\\t10k-images-idx3-ubyte.gz\n"
     ]
    },
    {
     "name": "stderr",
     "output_type": "stream",
     "text": [
      "180.4%"
     ]
    },
    {
     "name": "stdout",
     "output_type": "stream",
     "text": [
      "Extracting ../Data\\MNIST\\raw\\t10k-images-idx3-ubyte.gz\n",
      "Downloading http://yann.lecun.com/exdb/mnist/t10k-labels-idx1-ubyte.gz to ../Data\\MNIST\\raw\\t10k-labels-idx1-ubyte.gz\n",
      "Extracting ../Data\\MNIST\\raw\\t10k-labels-idx1-ubyte.gz\n",
      "Processing...\n",
      "Done!\n"
     ]
    }
   ],
   "source": [
    "transform = transforms.ToTensor()\n",
    "\n",
    "train_data = datasets.MNIST(root='../Data', train=True, download=True, transform=transform)\n",
    "test_data = datasets.MNIST(root='../Data', train=False, download=True, transform=transform)"
   ]
  },
  {
   "cell_type": "code",
   "execution_count": 3,
   "id": "0829b70e",
   "metadata": {},
   "outputs": [],
   "source": [
    "train_loader = DataLoader(train_data, batch_size=10, shuffle=True)\n",
    "test_loader = DataLoader(test_data, batch_size=10, shuffle=False)"
   ]
  },
  {
   "cell_type": "code",
   "execution_count": 4,
   "id": "24ccf450",
   "metadata": {},
   "outputs": [],
   "source": [
    "class ConvolutionalNetwork(nn.Module):\n",
    "    def __init__(self):\n",
    "        super().__init__()\n",
    "        self.conv1 = nn.Conv2d(1, 6, 3, 1)\n",
    "        self.conv2 = nn.Conv2d(6, 16, 3, 1)\n",
    "        self.fc1 = nn.Linear(5*5*16, 120)\n",
    "        self.fc2 = nn.Linear(120, 84)\n",
    "        self.fc3 = nn.Linear(84,10)\n",
    "\n",
    "    def forward(self, X):\n",
    "        X = F.relu(self.conv1(X))\n",
    "        X = F.max_pool2d(X, 2, 2)\n",
    "        X = F.relu(self.conv2(X))\n",
    "        X = F.max_pool2d(X, 2, 2)\n",
    "        X = X.view(-1, 5*5*16)\n",
    "        X = F.relu(self.fc1(X))\n",
    "        X = F.relu(self.fc2(X))\n",
    "        X = self.fc3(X)\n",
    "        return F.log_softmax(X, dim=1)"
   ]
  },
  {
   "cell_type": "code",
   "execution_count": 5,
   "id": "73c86b80",
   "metadata": {},
   "outputs": [
    {
     "data": {
      "text/plain": [
       "ConvolutionalNetwork(\n",
       "  (conv1): Conv2d(1, 6, kernel_size=(3, 3), stride=(1, 1))\n",
       "  (conv2): Conv2d(6, 16, kernel_size=(3, 3), stride=(1, 1))\n",
       "  (fc1): Linear(in_features=400, out_features=120, bias=True)\n",
       "  (fc2): Linear(in_features=120, out_features=84, bias=True)\n",
       "  (fc3): Linear(in_features=84, out_features=10, bias=True)\n",
       ")"
      ]
     },
     "execution_count": 5,
     "metadata": {},
     "output_type": "execute_result"
    }
   ],
   "source": [
    "torch.manual_seed(42)\n",
    "model = ConvolutionalNetwork()\n",
    "model"
   ]
  },
  {
   "cell_type": "code",
   "execution_count": 6,
   "id": "68d1dc4b",
   "metadata": {},
   "outputs": [],
   "source": [
    "criterion = nn.CrossEntropyLoss()\n",
    "optimizer = torch.optim.Adam(model.parameters(), lr=0.001)"
   ]
  },
  {
   "cell_type": "code",
   "execution_count": 7,
   "id": "71be6638",
   "metadata": {},
   "outputs": [
    {
     "name": "stdout",
     "output_type": "stream",
     "text": [
      "epoch:  0  batch:  600 [  6000/60000]  loss: 0.20879607  accuracy:  78.350%\n",
      "epoch:  0  batch: 1200 [ 12000/60000]  loss: 0.58846974  accuracy:  85.558%\n",
      "epoch:  0  batch: 1800 [ 18000/60000]  loss: 0.02818724  accuracy:  88.683%\n",
      "epoch:  0  batch: 2400 [ 24000/60000]  loss: 0.01245512  accuracy:  90.508%\n",
      "epoch:  0  batch: 3000 [ 30000/60000]  loss: 0.01122092  accuracy:  91.613%\n",
      "epoch:  0  batch: 3600 [ 36000/60000]  loss: 0.01107820  accuracy:  92.419%\n",
      "epoch:  0  batch: 4200 [ 42000/60000]  loss: 0.07323463  accuracy:  93.005%\n",
      "epoch:  0  batch: 4800 [ 48000/60000]  loss: 0.00166770  accuracy:  93.523%\n",
      "epoch:  0  batch: 5400 [ 54000/60000]  loss: 0.00080059  accuracy:  93.950%\n",
      "epoch:  0  batch: 6000 [ 60000/60000]  loss: 0.00152524  accuracy:  94.292%\n",
      "epoch:  1  batch:  600 [  6000/60000]  loss: 0.03142567  accuracy:  97.983%\n",
      "epoch:  1  batch: 1200 [ 12000/60000]  loss: 0.33093292  accuracy:  97.742%\n",
      "epoch:  1  batch: 1800 [ 18000/60000]  loss: 0.24226348  accuracy:  97.761%\n",
      "epoch:  1  batch: 2400 [ 24000/60000]  loss: 0.00016542  accuracy:  97.817%\n",
      "epoch:  1  batch: 3000 [ 30000/60000]  loss: 0.00134349  accuracy:  97.783%\n",
      "epoch:  1  batch: 3600 [ 36000/60000]  loss: 0.15126704  accuracy:  97.806%\n",
      "epoch:  1  batch: 4200 [ 42000/60000]  loss: 0.01160375  accuracy:  97.833%\n",
      "epoch:  1  batch: 4800 [ 48000/60000]  loss: 0.25846416  accuracy:  97.865%\n",
      "epoch:  1  batch: 5400 [ 54000/60000]  loss: 0.00469938  accuracy:  97.926%\n",
      "epoch:  1  batch: 6000 [ 60000/60000]  loss: 0.00957003  accuracy:  97.927%\n",
      "epoch:  2  batch:  600 [  6000/60000]  loss: 0.00225796  accuracy:  98.717%\n",
      "epoch:  2  batch: 1200 [ 12000/60000]  loss: 0.00079801  accuracy:  98.575%\n",
      "epoch:  2  batch: 1800 [ 18000/60000]  loss: 0.00307486  accuracy:  98.522%\n",
      "epoch:  2  batch: 2400 [ 24000/60000]  loss: 0.00096869  accuracy:  98.483%\n",
      "epoch:  2  batch: 3000 [ 30000/60000]  loss: 0.15904830  accuracy:  98.460%\n",
      "epoch:  2  batch: 3600 [ 36000/60000]  loss: 0.00014349  accuracy:  98.503%\n",
      "epoch:  2  batch: 4200 [ 42000/60000]  loss: 0.00122498  accuracy:  98.479%\n",
      "epoch:  2  batch: 4800 [ 48000/60000]  loss: 0.00069071  accuracy:  98.473%\n",
      "epoch:  2  batch: 5400 [ 54000/60000]  loss: 0.00025919  accuracy:  98.498%\n",
      "epoch:  2  batch: 6000 [ 60000/60000]  loss: 0.00003866  accuracy:  98.508%\n",
      "epoch:  3  batch:  600 [  6000/60000]  loss: 0.01872269  accuracy:  99.033%\n",
      "epoch:  3  batch: 1200 [ 12000/60000]  loss: 0.01543023  accuracy:  98.925%\n",
      "epoch:  3  batch: 1800 [ 18000/60000]  loss: 0.00323813  accuracy:  98.833%\n",
      "epoch:  3  batch: 2400 [ 24000/60000]  loss: 0.00338860  accuracy:  98.854%\n",
      "epoch:  3  batch: 3000 [ 30000/60000]  loss: 0.00004144  accuracy:  98.847%\n",
      "epoch:  3  batch: 3600 [ 36000/60000]  loss: 0.00166221  accuracy:  98.836%\n",
      "epoch:  3  batch: 4200 [ 42000/60000]  loss: 0.00475193  accuracy:  98.795%\n",
      "epoch:  3  batch: 4800 [ 48000/60000]  loss: 0.00262439  accuracy:  98.815%\n",
      "epoch:  3  batch: 5400 [ 54000/60000]  loss: 0.00052374  accuracy:  98.813%\n",
      "epoch:  3  batch: 6000 [ 60000/60000]  loss: 0.00030950  accuracy:  98.807%\n",
      "epoch:  4  batch:  600 [  6000/60000]  loss: 0.00414081  accuracy:  99.000%\n",
      "epoch:  4  batch: 1200 [ 12000/60000]  loss: 0.17812605  accuracy:  98.992%\n",
      "epoch:  4  batch: 1800 [ 18000/60000]  loss: 0.00741043  accuracy:  99.033%\n",
      "epoch:  4  batch: 2400 [ 24000/60000]  loss: 0.00001696  accuracy:  99.033%\n",
      "epoch:  4  batch: 3000 [ 30000/60000]  loss: 0.04656160  accuracy:  98.943%\n",
      "epoch:  4  batch: 3600 [ 36000/60000]  loss: 0.00051832  accuracy:  98.961%\n",
      "epoch:  4  batch: 4200 [ 42000/60000]  loss: 0.00121965  accuracy:  98.981%\n",
      "epoch:  4  batch: 4800 [ 48000/60000]  loss: 0.00020149  accuracy:  98.985%\n",
      "epoch:  4  batch: 5400 [ 54000/60000]  loss: 0.31773904  accuracy:  98.993%\n",
      "epoch:  4  batch: 6000 [ 60000/60000]  loss: 0.00139486  accuracy:  98.978%\n",
      "\n",
      "Duration: 423 seconds\n"
     ]
    }
   ],
   "source": [
    "import time\n",
    "start_time = time.time()\n",
    "\n",
    "epochs = 5\n",
    "train_losses = []\n",
    "test_losses = []\n",
    "train_correct = []\n",
    "test_correct = []\n",
    "\n",
    "for i in range(epochs):\n",
    "    trn_corr = 0\n",
    "    tst_corr = 0\n",
    "    \n",
    "    \n",
    "    for b, (X_train, y_train) in enumerate(train_loader):\n",
    "        b+=1\n",
    "        \n",
    "        # Apply the model\n",
    "        y_pred = model(X_train)   \n",
    "        loss = criterion(y_pred, y_train)\n",
    " \n",
    "        \n",
    "        predicted = torch.max(y_pred.data, 1)[1]\n",
    "        batch_corr = (predicted == y_train).sum()\n",
    "        trn_corr += batch_corr\n",
    "        \n",
    "        # Update parameters\n",
    "        optimizer.zero_grad()\n",
    "        loss.backward()\n",
    "        optimizer.step()\n",
    "        \n",
    "        # Print interim results\n",
    "        if b%600 == 0:\n",
    "            print(f'epoch: {i:2}  batch: {b:4} [{10*b:6}/60000]  loss: {loss.item():10.8f}  \\\n",
    "accuracy: {trn_corr.item()*100/(10*b):7.3f}%')\n",
    "        \n",
    "    train_losses.append(loss)\n",
    "    train_correct.append(trn_corr)\n",
    "        \n",
    "    # Run the testing batches\n",
    "    with torch.no_grad():\n",
    "        for b, (X_test, y_test) in enumerate(test_loader):\n",
    "\n",
    "            # Apply the model\n",
    "            y_val = model(X_test)\n",
    "\n",
    "            \n",
    "            predicted = torch.max(y_val.data, 1)[1] \n",
    "            tst_corr += (predicted == y_test).sum()\n",
    "            \n",
    "    loss = criterion(y_val, y_test)\n",
    "    test_losses.append(loss)\n",
    "    test_correct.append(tst_corr)\n",
    "        \n",
    "print(f'\\nDuration: {time.time() - start_time:.0f} seconds') # print the time elapsed "
   ]
  },
  {
   "cell_type": "code",
   "execution_count": 8,
   "id": "2610a6a9",
   "metadata": {},
   "outputs": [
    {
     "data": {
      "image/png": "[encoded data removed]",
      "text/plain": [
       "<Figure size 432x288 with 1 Axes>"
      ]
     },
     "metadata": {
      "needs_background": "light"
     },
     "output_type": "display_data"
    }
   ],
   "source": [
    "plt.plot([t/600 for t in train_correct], label='training accuracy')\n",
    "plt.plot([t/100 for t in test_correct], label='validation accuracy')\n",
    "plt.title('Accuracy at the end of each epoch')\n",
    "plt.legend();"
   ]
  },
  {
   "cell_type": "code",
   "execution_count": 9,
   "id": "3a410f2b",
   "metadata": {},
   "outputs": [],
   "source": [
    "#evaluate : \n",
    "# Extract the data all at once, not in batches\n",
    "test_load_all = DataLoader(test_data, batch_size=10000, shuffle=False)"
   ]
  },
  {
   "cell_type": "code",
   "execution_count": 10,
   "id": "50477253",
   "metadata": {},
   "outputs": [
    {
     "name": "stdout",
     "output_type": "stream",
     "text": [
      "Test accuracy: 9847/10000 =  98.470%\n"
     ]
    }
   ],
   "source": [
    "with torch.no_grad():\n",
    "    correct = 0\n",
    "    for X_test, y_test in test_load_all:\n",
    "        y_val = model(X_test)  # we don't flatten the data this time\n",
    "        predicted = torch.max(y_val,1)[1]\n",
    "        correct += (predicted == y_test).sum()\n",
    "print(f'Test accuracy: {correct.item()}/{len(test_data)} = {correct.item()*100/(len(test_data)):7.3f}%')"
   ]
  },
  {
   "cell_type": "code",
   "execution_count": null,
   "id": "abc7f61c",
   "metadata": {},
   "outputs": [],
   "source": []
  }
 ],
 "metadata": {
  "kernelspec": {
   "display_name": "Python 3 (ipykernel)",
   "language": "python",
   "name": "python3"
  },
  "language_info": {
   "codemirror_mode": {
    "name": "ipython",
    "version": 3
   },
   "file_extension": ".py",
   "mimetype": "text/x-python",
   "name": "python",
   "nbconvert_exporter": "python",
   "pygments_lexer": "ipython3",
   "version": "3.7.3"
  }
 },
 "nbformat": 4,
 "nbformat_minor": 5
}
