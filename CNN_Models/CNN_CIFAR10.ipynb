{
 "cells": [
  {
   "cell_type": "code",
   "execution_count": 21,
   "id": "f4e5402e",
   "metadata": {},
   "outputs": [],
   "source": [
    "import torch\n",
    "import torch.nn as nn\n",
    "import torch.nn.functional as F\n",
    "from torch.utils.data import DataLoader\n",
    "from torchvision import datasets, transforms\n",
    "from torchvision.utils import make_grid\n",
    "\n",
    "import numpy as np\n",
    "import pandas as pd\n",
    "import seaborn as sn  # for heatmaps\n",
    "import matplotlib.pyplot as plt\n",
    "%matplotlib inline"
   ]
  },
  {
   "cell_type": "code",
   "execution_count": 22,
   "id": "cbe2d40c",
   "metadata": {},
   "outputs": [
    {
     "name": "stdout",
     "output_type": "stream",
     "text": [
      "Files already downloaded and verified\n",
      "Files already downloaded and verified\n"
     ]
    }
   ],
   "source": [
    "transform = transforms.ToTensor()\n",
    "\n",
    "train_data = datasets.CIFAR10(root='../Data', train=True, download=True, transform=transform)\n",
    "test_data = datasets.CIFAR10(root='../Data', train=False, download=True, transform=transform)"
   ]
  },
  {
   "cell_type": "code",
   "execution_count": 23,
   "id": "d228ac74",
   "metadata": {},
   "outputs": [],
   "source": [
    "torch.manual_seed(101)  # pour avoir le mm\n",
    "\n",
    "train_loader = DataLoader(train_data, batch_size=10, shuffle=True)\n",
    "test_loader = DataLoader(test_data, batch_size=10, shuffle=False)"
   ]
  },
  {
   "cell_type": "code",
   "execution_count": 24,
   "id": "4bfba1f1",
   "metadata": {},
   "outputs": [],
   "source": [
    "class_names = ['plane', '  car', ' bird', '  cat', ' deer', '  dog', ' frog', 'horse', ' ship', 'truck']"
   ]
  },
  {
   "cell_type": "code",
   "execution_count": 25,
   "id": "ddd3b535",
   "metadata": {},
   "outputs": [],
   "source": [
    "class ConvolutionalNetwork(nn.Module):\n",
    "    def __init__(self):\n",
    "        super().__init__()\n",
    "        self.conv1 = nn.Conv2d(3, 6, 3, 1)  # changed from (1, 6, 5, 1)\n",
    "        self.conv2 = nn.Conv2d(6, 16, 3, 1)\n",
    "        self.fc1 = nn.Linear(6*6*16, 120)   # changed from (4*4*16) to fit 32x32 images with 3x3 filters\n",
    "        self.fc2 = nn.Linear(120,84)\n",
    "        self.fc3 = nn.Linear(84, 10)\n",
    "\n",
    "    def forward(self, X):\n",
    "        X = F.relu(self.conv1(X))\n",
    "        X = F.max_pool2d(X, 2, 2)\n",
    "        X = F.relu(self.conv2(X))\n",
    "        X = F.max_pool2d(X, 2, 2)\n",
    "        X = X.view(-1, 6*6*16)\n",
    "        X = F.relu(self.fc1(X))\n",
    "        X = F.relu(self.fc2(X))\n",
    "        X = self.fc3(X)\n",
    "        return F.log_softmax(X, dim=1)"
   ]
  },
  {
   "cell_type": "code",
   "execution_count": 26,
   "id": "032edef3",
   "metadata": {},
   "outputs": [
    {
     "data": {
      "text/plain": [
       "ConvolutionalNetwork(\n",
       "  (conv1): Conv2d(3, 6, kernel_size=(3, 3), stride=(1, 1))\n",
       "  (conv2): Conv2d(6, 16, kernel_size=(3, 3), stride=(1, 1))\n",
       "  (fc1): Linear(in_features=576, out_features=120, bias=True)\n",
       "  (fc2): Linear(in_features=120, out_features=84, bias=True)\n",
       "  (fc3): Linear(in_features=84, out_features=10, bias=True)\n",
       ")"
      ]
     },
     "execution_count": 26,
     "metadata": {},
     "output_type": "execute_result"
    }
   ],
   "source": [
    "torch.manual_seed(101)\n",
    "model = ConvolutionalNetwork()\n",
    "model"
   ]
  },
  {
   "cell_type": "code",
   "execution_count": 28,
   "id": "2875f2cd",
   "metadata": {},
   "outputs": [],
   "source": [
    "criterion = nn.CrossEntropyLoss()\n",
    "optimizer = torch.optim.Adam(model.parameters(), lr=0.001)"
   ]
  },
  {
   "cell_type": "code",
   "execution_count": 29,
   "id": "421ce1de",
   "metadata": {},
   "outputs": [
    {
     "name": "stdout",
     "output_type": "stream",
     "text": [
      "epoch:  0  batch: 1000 [ 10000/50000]  loss: 1.34364569  accuracy:  26.850%\n",
      "epoch:  0  batch: 2000 [ 20000/50000]  loss: 1.78483236  accuracy:  32.875%\n",
      "epoch:  0  batch: 3000 [ 30000/50000]  loss: 1.06514668  accuracy:  36.700%\n",
      "epoch:  0  batch: 4000 [ 40000/50000]  loss: 1.23025084  accuracy:  39.015%\n",
      "epoch:  0  batch: 5000 [ 50000/50000]  loss: 1.25042725  accuracy:  40.638%\n",
      "epoch:  1  batch: 1000 [ 10000/50000]  loss: 1.27736855  accuracy:  50.550%\n",
      "epoch:  1  batch: 2000 [ 20000/50000]  loss: 1.20492256  accuracy:  50.735%\n",
      "epoch:  1  batch: 3000 [ 30000/50000]  loss: 1.13297749  accuracy:  51.143%\n",
      "epoch:  1  batch: 4000 [ 40000/50000]  loss: 0.88267916  accuracy:  51.770%\n",
      "epoch:  1  batch: 5000 [ 50000/50000]  loss: 0.88930047  accuracy:  52.372%\n",
      "epoch:  2  batch: 1000 [ 10000/50000]  loss: 1.63574350  accuracy:  55.530%\n",
      "epoch:  2  batch: 2000 [ 20000/50000]  loss: 1.26633883  accuracy:  56.140%\n",
      "epoch:  2  batch: 3000 [ 30000/50000]  loss: 1.27333093  accuracy:  56.420%\n",
      "epoch:  2  batch: 4000 [ 40000/50000]  loss: 1.18549502  accuracy:  56.635%\n",
      "epoch:  2  batch: 5000 [ 50000/50000]  loss: 1.26664901  accuracy:  56.876%\n",
      "epoch:  3  batch: 1000 [ 10000/50000]  loss: 1.32819319  accuracy:  60.130%\n",
      "epoch:  3  batch: 2000 [ 20000/50000]  loss: 0.97030467  accuracy:  59.905%\n",
      "epoch:  3  batch: 3000 [ 30000/50000]  loss: 2.28760338  accuracy:  60.150%\n",
      "epoch:  3  batch: 4000 [ 40000/50000]  loss: 1.17484188  accuracy:  59.752%\n",
      "epoch:  3  batch: 5000 [ 50000/50000]  loss: 1.17152297  accuracy:  59.874%\n",
      "epoch:  4  batch: 1000 [ 10000/50000]  loss: 0.45533204  accuracy:  61.900%\n",
      "epoch:  4  batch: 2000 [ 20000/50000]  loss: 0.99309653  accuracy:  61.635%\n",
      "epoch:  4  batch: 3000 [ 30000/50000]  loss: 0.77295226  accuracy:  61.990%\n",
      "epoch:  4  batch: 4000 [ 40000/50000]  loss: 0.92746007  accuracy:  62.025%\n",
      "epoch:  4  batch: 5000 [ 50000/50000]  loss: 1.11029601  accuracy:  62.062%\n",
      "epoch:  5  batch: 1000 [ 10000/50000]  loss: 1.69804037  accuracy:  64.130%\n",
      "epoch:  5  batch: 2000 [ 20000/50000]  loss: 0.92802030  accuracy:  63.685%\n",
      "epoch:  5  batch: 3000 [ 30000/50000]  loss: 1.01527762  accuracy:  63.563%\n",
      "epoch:  5  batch: 4000 [ 40000/50000]  loss: 1.07756400  accuracy:  63.540%\n",
      "epoch:  5  batch: 5000 [ 50000/50000]  loss: 0.86938208  accuracy:  63.434%\n",
      "epoch:  6  batch: 1000 [ 10000/50000]  loss: 0.80645484  accuracy:  65.680%\n",
      "epoch:  6  batch: 2000 [ 20000/50000]  loss: 0.60177100  accuracy:  65.745%\n",
      "epoch:  6  batch: 3000 [ 30000/50000]  loss: 1.60844350  accuracy:  65.353%\n",
      "epoch:  6  batch: 4000 [ 40000/50000]  loss: 0.88988352  accuracy:  65.245%\n",
      "epoch:  6  batch: 5000 [ 50000/50000]  loss: 1.15014040  accuracy:  65.140%\n",
      "epoch:  7  batch: 1000 [ 10000/50000]  loss: 0.73866063  accuracy:  67.110%\n",
      "epoch:  7  batch: 2000 [ 20000/50000]  loss: 0.89783561  accuracy:  66.695%\n",
      "epoch:  7  batch: 3000 [ 30000/50000]  loss: 0.89924705  accuracy:  66.547%\n",
      "epoch:  7  batch: 4000 [ 40000/50000]  loss: 0.57809258  accuracy:  66.507%\n",
      "epoch:  7  batch: 5000 [ 50000/50000]  loss: 0.80177307  accuracy:  66.266%\n",
      "epoch:  8  batch: 1000 [ 10000/50000]  loss: 1.08493471  accuracy:  68.390%\n",
      "epoch:  8  batch: 2000 [ 20000/50000]  loss: 1.61771142  accuracy:  67.435%\n",
      "epoch:  8  batch: 3000 [ 30000/50000]  loss: 1.27695620  accuracy:  67.353%\n",
      "epoch:  8  batch: 4000 [ 40000/50000]  loss: 1.32279778  accuracy:  67.275%\n",
      "epoch:  8  batch: 5000 [ 50000/50000]  loss: 0.56886685  accuracy:  67.182%\n",
      "epoch:  9  batch: 1000 [ 10000/50000]  loss: 0.55181265  accuracy:  69.090%\n",
      "epoch:  9  batch: 2000 [ 20000/50000]  loss: 0.91062337  accuracy:  68.985%\n",
      "epoch:  9  batch: 3000 [ 30000/50000]  loss: 0.82963467  accuracy:  68.780%\n",
      "epoch:  9  batch: 4000 [ 40000/50000]  loss: 1.48590529  accuracy:  68.537%\n",
      "epoch:  9  batch: 5000 [ 50000/50000]  loss: 0.34620264  accuracy:  68.242%\n",
      "\n",
      "Duration: 924 seconds\n"
     ]
    }
   ],
   "source": [
    "import time\n",
    "start_time = time.time()\n",
    "\n",
    "epochs = 10\n",
    "train_losses = []\n",
    "test_losses = []\n",
    "train_correct = []\n",
    "test_correct = []\n",
    "\n",
    "for i in range(epochs):\n",
    "    trn_corr = 0\n",
    "    tst_corr = 0\n",
    "    \n",
    "    \n",
    "    for b, (X_train, y_train) in enumerate(train_loader):\n",
    "        b+=1\n",
    "        \n",
    "        # Apply the model\n",
    "        y_pred = model(X_train)\n",
    "        loss = criterion(y_pred, y_train)\n",
    " \n",
    "        \n",
    "        predicted = torch.max(y_pred.data, 1)[1]\n",
    "        batch_corr = (predicted == y_train).sum()\n",
    "        trn_corr += batch_corr\n",
    "        \n",
    "        \n",
    "        optimizer.zero_grad()\n",
    "        loss.backward()\n",
    "        optimizer.step()\n",
    "        \n",
    "        \n",
    "        if b%1000 == 0:\n",
    "            print(f'epoch: {i:2}  batch: {b:4} [{10*b:6}/50000]  loss: {loss.item():10.8f}  \\\n",
    "accuracy: {trn_corr.item()*100/(10*b):7.3f}%')\n",
    "        \n",
    "    train_losses.append(loss)\n",
    "    train_correct.append(trn_corr)\n",
    "        \n",
    "    \n",
    "    with torch.no_grad():\n",
    "        for b, (X_test, y_test) in enumerate(test_loader):\n",
    "\n",
    "            # Apply the model\n",
    "            y_val = model(X_test)\n",
    "\n",
    "            \n",
    "            predicted = torch.max(y_val.data, 1)[1] \n",
    "            tst_corr += (predicted == y_test).sum()\n",
    "            \n",
    "    loss = criterion(y_val, y_test)\n",
    "    test_losses.append(loss)\n",
    "    test_correct.append(tst_corr)\n",
    "        \n",
    "print(f'\\nDuration: {time.time() - start_time:.0f} seconds') # print the time elapsed            "
   ]
  },
  {
   "cell_type": "code",
   "execution_count": 30,
   "id": "64242aa3",
   "metadata": {},
   "outputs": [],
   "source": [
    "# save model : \n",
    "torch.save(model.state_dict(), 'CIFAR10-CNN-Model.pt')"
   ]
  },
  {
   "cell_type": "code",
   "execution_count": 31,
   "id": "c0657f38",
   "metadata": {},
   "outputs": [
    {
     "data": {
      "image/png": "[encoded data removed]",
      "text/plain": [
       "<Figure size 432x288 with 1 Axes>"
      ]
     },
     "metadata": {
      "needs_background": "light"
     },
     "output_type": "display_data"
    }
   ],
   "source": [
    "plt.plot([t/500 for t in train_correct], label='training accuracy')\n",
    "plt.plot([t/100 for t in test_correct], label='validation accuracy')\n",
    "plt.title('Accuracy at the end of each epoch')\n",
    "plt.legend();"
   ]
  },
  {
   "cell_type": "code",
   "execution_count": 32,
   "id": "bf0696da",
   "metadata": {},
   "outputs": [
    {
     "name": "stdout",
     "output_type": "stream",
     "text": [
      "[tensor(4876), tensor(5456), tensor(5774), tensor(5894), tensor(5860), tensor(6059), tensor(6153), tensor(6080), tensor(6201), tensor(6162)]\n",
      "\n",
      "Test accuracy: 61.620%\n"
     ]
    }
   ],
   "source": [
    "print(test_correct) # contains the results of all 10 epochs\n",
    "print()\n",
    "print(f'Test accuracy: {test_correct[-1].item()*100/10000:.3f}%') # print the most recent result as a percent"
   ]
  },
  {
   "cell_type": "code",
   "execution_count": null,
   "id": "98c40038",
   "metadata": {},
   "outputs": [],
   "source": []
  }
 ],
 "metadata": {
  "kernelspec": {
   "display_name": "Python 3 (ipykernel)",
   "language": "python",
   "name": "python3"
  },
  "language_info": {
   "codemirror_mode": {
    "name": "ipython",
    "version": 3
   },
   "file_extension": ".py",
   "mimetype": "text/x-python",
   "name": "python",
   "nbconvert_exporter": "python",
   "pygments_lexer": "ipython3",
   "version": "3.7.3"
  }
 },
 "nbformat": 4,
 "nbformat_minor": 5
}
